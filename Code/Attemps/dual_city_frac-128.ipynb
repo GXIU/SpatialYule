{
 "cells": [
  {
   "cell_type": "markdown",
   "metadata": {},
   "source": [
    "# loading packages"
   ]
  },
  {
   "cell_type": "code",
   "execution_count": 1,
   "metadata": {},
   "outputs": [],
   "source": [
    "import numpy as np\n",
    "import pandas as pd\n",
    "%matplotlib inline\n",
    "from tqdm import tqdm_notebook\n",
    "import matplotlib.pyplot as plt\n",
    "import plotly\n",
    "from time import time\n",
    "\n",
    "beta_1 = 1\n",
    "beta_2 = 1"
   ]
  },
  {
   "cell_type": "markdown",
   "metadata": {},
   "source": [
    "# initial settings"
   ]
  },
  {
   "cell_type": "code",
   "execution_count": 2,
   "metadata": {},
   "outputs": [],
   "source": [
    "L = 128\n",
    "r = 0.5\n",
    "\n",
    "k = 2\n",
    "N = 2\n",
    "taken = np.zeros([L,L])     # 数量\n",
    "possess = np.zeros([L,L]) # 类\n",
    "\n",
    "all_edges = [(int(L/4),int(L/4))]\n",
    "edges = [{(int(L/4),int(L/4)):[np.array([L/4.,L/4.])]}]\n",
    "taken[(int(L/4),int(L/4))] = 1\n",
    "possess[(int(L/4),int(L/4))] = 1\n",
    "\n",
    "all_edges.append((int(3*L/4),int(3*L/4)))\n",
    "edges.append({(int(3*L/4),int(3*L/4)):[np.array([3*L/4.,3*L/4.])]})\n",
    "taken[(int(3*L/4),int(3*L/4))] = 1\n",
    "possess[(int(3*L/4),int(3*L/4))] = 2"
   ]
  },
  {
   "cell_type": "markdown",
   "metadata": {},
   "source": [
    "# Useful functions"
   ]
  },
  {
   "cell_type": "code",
   "execution_count": 3,
   "metadata": {},
   "outputs": [],
   "source": [
    "# togo\n",
    "def togo(r = r):\n",
    "    theta = 2 * np.pi * np.random.random()\n",
    "    togo =  r * np.array([np.cos(theta),np.sin(theta)])\n",
    "    return togo\n",
    "\n",
    "# 是否是边界\n",
    "def if_edge(block):\n",
    "    global taken, possess\n",
    "    neighbors = get_neighbors(block)\n",
    "    if len(set([possess[neighbor] for neighbor in neighbors])) == 1:\n",
    "        return False\n",
    "    else:\n",
    "        return True\n",
    "        \n",
    "# 得到邻居结点\n",
    "def get_neighbors(block,L = L):\n",
    "    neighbors = []\n",
    "    a,b = block\n",
    "    for i in range(-1,2):\n",
    "        for j in range(-1,2):\n",
    "            x,y = a+i,b+j\n",
    "            if (x<L)&(x>=0)&(y<L)&(y>=0):\n",
    "                neighbors.append((a + i , b +j))\n",
    "    neighbors.remove(block)\n",
    "    return neighbors"
   ]
  },
  {
   "cell_type": "code",
   "execution_count": 4,
   "metadata": {},
   "outputs": [],
   "source": [
    "def mech_2():\n",
    "    global k, N, all_edges, edges, taken,possess # ,block,choice,father_block,city,father_node,position\n",
    "    \n",
    "    probs = taken.flatten()\n",
    "    choice = np.random.choice(np.arange(L * L),p = probs/sum(probs))\n",
    "    father_block = int(choice//L), int(choice%L)\n",
    "    # 是否是边缘结点\n",
    "    city = int(possess[father_block])\n",
    "    if father_block in all_edges:\n",
    "        father_node =  edges[city-1][father_block][np.random.choice(int(taken[father_block]))]\n",
    "        position = np.array([2*L,2*L])\n",
    "        while (position[0] >= L) or (position[0] < 0) or (position[1] >= L) or (position[1] < 0):\n",
    "            position = father_node + togo()\n",
    "        block = tuple(position.astype(int))\n",
    "        if possess[block] == 0:# 空格子，那么它一定是边界asas\n",
    "#             print(block) # 边缘\n",
    "            all_edges.append(block)\n",
    "            edges[city-1][block] = [position]\n",
    "            taken[block] = 1\n",
    "            N += 1\n",
    "            possess[block] = city\n",
    "            # 验证邻居是不是边界结点\n",
    "            neighbors = get_neighbors(block)\n",
    "            for neighbor in neighbors:\n",
    "                if (not if_edge(neighbor)) & (neighbors in all_edges):\n",
    "                    del edges[city-1][neighbor]\n",
    "                    all_edges.remove(neighbor)\n",
    "        elif possess[block] == city:\n",
    "            if block in edges[city-1].keys():\n",
    "                edges[city-1][block].append(position)\n",
    "            taken[block] += 1\n",
    "            N += 1\n",
    "    else:#不是边缘结点\n",
    "        father_node = np.array(father_block) + np.random.random(2)\n",
    "        position = father_node + togo()\n",
    "        block = position.astype(int)      \n",
    "        if block in all_edges:\n",
    "            edges[city-1][block].append(position)\n",
    "        taken[block] += 1\n",
    "        N += 1"
   ]
  },
  {
   "cell_type": "code",
   "execution_count": 5,
   "metadata": {},
   "outputs": [],
   "source": [
    "def mech_1():\n",
    "    global k, N, all_edges, edges, taken,possess,block\n",
    "    choice = np.random.randint(L*L)\n",
    "    block = int(choice//L), int(choice%L)\n",
    "    position = np.array(block) + togo()\n",
    "    if possess[block] == 0:\n",
    "        k += 1\n",
    "        possess[block] = k\n",
    "        all_edges.append(block)\n",
    "        edges.append( {block: [position]} )\n",
    "        taken[block] = 1\n",
    "        N+=1\n",
    "        "
   ]
  },
  {
   "cell_type": "markdown",
   "metadata": {},
   "source": [
    "# 运行机制"
   ]
  },
  {
   "cell_type": "code",
   "execution_count": 6,
   "metadata": {},
   "outputs": [],
   "source": [
    "# def generate(x):\n",
    "#     global k,beta_1,beta_2,N,case1,case2\n",
    "#     if x < ((k*beta_2)/(beta_2*k+beta_1*N)):\n",
    "#         mech_1()\n",
    "# #         case1 +=1\n",
    "#     else:\n",
    "#         mech_2()\n",
    "# #         case2 +=1\n",
    "def generate(x):\n",
    "    global k,beta_1,beta_2,N#,case1,case2\n",
    "#     if x < ((k*beta_2)/(beta_2*k+beta_1*N)):\n",
    "#         mech_1()\n",
    "#         case1 +=1\n",
    "#     else:\n",
    "    mech_2()\n",
    "#         case2 +=1"
   ]
  },
  {
   "cell_type": "markdown",
   "metadata": {},
   "source": [
    "# 运行"
   ]
  },
  {
   "cell_type": "code",
   "execution_count": 10,
   "metadata": {},
   "outputs": [],
   "source": [
    "p = np.random.random(int(1e8))"
   ]
  },
  {
   "cell_type": "code",
   "execution_count": 11,
   "metadata": {},
   "outputs": [
    {
     "data": {
      "application/vnd.jupyter.widget-view+json": {
       "model_id": "321f971e783149e289e07e3d99aa646d",
       "version_major": 2,
       "version_minor": 0
      },
      "text/plain": [
       "HBox(children=(IntProgress(value=0, max=10000000), HTML(value='')))"
      ]
     },
     "metadata": {},
     "output_type": "display_data"
    },
    {
     "name": "stdout",
     "output_type": "stream",
     "text": [
      "\n"
     ]
    }
   ],
   "source": [
    "for _ in tqdm_notebook(range(int(1e7))):\n",
    "    generate(p[_]) # 重复一亿次"
   ]
  },
  {
   "cell_type": "code",
   "execution_count": 12,
   "metadata": {},
   "outputs": [
    {
     "data": {
      "text/plain": [
       "(2, 20000002, 16038)"
      ]
     },
     "execution_count": 12,
     "metadata": {},
     "output_type": "execute_result"
    }
   ],
   "source": [
    "k,N,sum(sum(taken == 0))"
   ]
  },
  {
   "cell_type": "code",
   "execution_count": 14,
   "metadata": {},
   "outputs": [
    {
     "data": {
      "image/png": "[encoded data removed]",
      "text/plain": [
       "<Figure size 288x288 with 1 Axes>"
      ]
     },
     "metadata": {
      "needs_background": "light"
     },
     "output_type": "display_data"
    }
   ],
   "source": [
    "plt.matshow(taken)\n",
    "plt.savefig('pics/dual_city_{}_{}_{}.pdf'.format(beta_1,beta_2,time()))"
   ]
  },
  {
   "cell_type": "code",
   "execution_count": 15,
   "metadata": {},
   "outputs": [
    {
     "data": {
      "text/plain": [
       "<matplotlib.image.AxesImage at 0x3fb14e48>"
      ]
     },
     "execution_count": 15,
     "metadata": {},
     "output_type": "execute_result"
    },
    {
     "data": {
      "image/png": "[encoded data removed]",
      "text/plain": [
       "<Figure size 288x288 with 1 Axes>"
      ]
     },
     "metadata": {
      "needs_background": "light"
     },
     "output_type": "display_data"
    }
   ],
   "source": [
    "taken64 = taken[:,::2]+taken[:,1::2]\n",
    "taken64 = taken64[::2,:]+taken64[1::2,:]\n",
    "plt.matshow(taken64)"
   ]
  },
  {
   "cell_type": "code",
   "execution_count": 16,
   "metadata": {},
   "outputs": [
    {
     "data": {
      "text/plain": [
       "<matplotlib.image.AxesImage at 0x3c4f0cc0>"
      ]
     },
     "execution_count": 16,
     "metadata": {},
     "output_type": "execute_result"
    },
    {
     "data": {
      "image/png": "[encoded data removed]",
      "text/plain": [
       "<Figure size 288x288 with 1 Axes>"
      ]
     },
     "metadata": {
      "needs_background": "light"
     },
     "output_type": "display_data"
    }
   ],
   "source": [
    "taken64 = taken[:,::2]+taken[:,1::2]\n",
    "taken64 = taken64[::2,:]+taken64[1::2,:]\n",
    "plt.matshow(taken64)"
   ]
  },
  {
   "cell_type": "code",
   "execution_count": 17,
   "metadata": {},
   "outputs": [],
   "source": [
    "ranks = []\n",
    "for i in range(1,k+1):\n",
    "    ranks.append(sum(taken[possess == i]))"
   ]
  },
  {
   "cell_type": "code",
   "execution_count": 19,
   "metadata": {},
   "outputs": [
    {
     "name": "stderr",
     "output_type": "stream",
     "text": [
      "Calculating best minimal value for power law fit\n",
      "C:\\Users\\gxiu\\Coding\\Anaconda3\\lib\\site-packages\\powerlaw.py:700: RuntimeWarning:\n",
      "\n",
      "invalid value encountered in true_divide\n",
      "\n"
     ]
    },
    {
     "data": {
      "text/plain": [
       "(1.286997152356565, 94.0, 3.4239126449620017e-06, 0.9989690768977598)"
      ]
     },
     "execution_count": 19,
     "metadata": {},
     "output_type": "execute_result"
    }
   ],
   "source": [
    "import powerlaw\n",
    "results = powerlaw.Fit(ranks)\n",
    "R, p = results.distribution_compare('power_law', 'lognormal')\n",
    "results.power_law.alpha, results.power_law.xmin, R, p"
   ]
  },
  {
   "cell_type": "markdown",
   "metadata": {},
   "source": [
    "# Box counting"
   ]
  },
  {
   "cell_type": "code",
   "execution_count": 20,
   "metadata": {},
   "outputs": [],
   "source": [
    "def box_counting(edge,r = 2):\n",
    "    rearrange = []\n",
    "    for box in range(len(edge)):\n",
    "        x,y = edge[box]\n",
    "        new_box = x // r, y // r\n",
    "        rearrange.append(new_box)\n",
    "    return list(set(rearrange))"
   ]
  },
  {
   "cell_type": "code",
   "execution_count": 21,
   "metadata": {},
   "outputs": [
    {
     "name": "stdout",
     "output_type": "stream",
     "text": [
      "79\n",
      "28\n",
      "12\n",
      "4\n",
      "4\n"
     ]
    }
   ],
   "source": [
    "largest_city_edge = list(edges[0].keys())\n",
    "print(len(largest_city_edge))\n",
    "rescale_1 = box_counting(largest_city_edge)\n",
    "print(len(rescale_1))\n",
    "rescale_2 = box_counting(rescale_1)\n",
    "print(len(rescale_2))\n",
    "rescale_3 = box_counting(rescale_2)\n",
    "print(len(rescale_3))\n",
    "rescale_4 = box_counting(rescale_3)\n",
    "print(len(rescale_4))"
   ]
  },
  {
   "cell_type": "code",
   "execution_count": 22,
   "metadata": {},
   "outputs": [
    {
     "data": {
      "text/plain": [
       "([(4, 4), (3, 4), (3, 3), (4, 3)], [(1, 2), (1, 1), (2, 1), (2, 2)])"
      ]
     },
     "execution_count": 22,
     "metadata": {},
     "output_type": "execute_result"
    }
   ],
   "source": [
    "rescale_3 , rescale_4"
   ]
  },
  {
   "cell_type": "markdown",
   "metadata": {},
   "source": [
    "# area scaling"
   ]
  },
  {
   "cell_type": "code",
   "execution_count": 23,
   "metadata": {},
   "outputs": [
    {
     "data": {
      "text/plain": [
       "[<matplotlib.lines.Line2D at 0x405ec240>]"
      ]
     },
     "execution_count": 23,
     "metadata": {},
     "output_type": "execute_result"
    },
    {
     "data": {
      "image/png": "[encoded data removed]",
      "text/plain": [
       "<Figure size 432x288 with 1 Axes>"
      ]
     },
     "metadata": {
      "needs_background": "light"
     },
     "output_type": "display_data"
    }
   ],
   "source": [
    "area = []\n",
    "for i in range(k):\n",
    "    area.append(sum(sum(possess == i+1)))\n",
    "plt.plot(area)"
   ]
  },
  {
   "cell_type": "code",
   "execution_count": 26,
   "metadata": {},
   "outputs": [
    {
     "name": "stderr",
     "output_type": "stream",
     "text": [
      "Calculating best minimal value for power law fit\n",
      "C:\\Users\\gxiu\\Coding\\Anaconda3\\lib\\site-packages\\powerlaw.py:700: RuntimeWarning:\n",
      "\n",
      "invalid value encountered in true_divide\n",
      "\n"
     ]
    }
   ],
   "source": [
    "area_pwl = powerlaw.Fit([78,28,12,4])"
   ]
  },
  {
   "cell_type": "code",
   "execution_count": 27,
   "metadata": {},
   "outputs": [
    {
     "name": "stdout",
     "output_type": "stream",
     "text": [
      "1.6650111321716503 4.0\n"
     ]
    },
    {
     "data": {
      "text/plain": [
       "<matplotlib.axes._subplots.AxesSubplot at 0x407602b0>"
      ]
     },
     "execution_count": 27,
     "metadata": {},
     "output_type": "execute_result"
    },
    {
     "data": {
      "image/png": "[encoded data removed]",
      "text/plain": [
       "<Figure size 432x288 with 1 Axes>"
      ]
     },
     "metadata": {
      "needs_background": "light"
     },
     "output_type": "display_data"
    }
   ],
   "source": [
    "print(area_pwl.alpha, area_pwl.xmin)\n",
    "area_pwl.plot_pdf()"
   ]
  },
  {
   "cell_type": "code",
   "execution_count": null,
   "metadata": {},
   "outputs": [],
   "source": []
  }
 ],
 "metadata": {
  "kernelspec": {
   "display_name": "Python 3",
   "language": "python",
   "name": "python3"
  },
  "language_info": {
   "codemirror_mode": {
    "name": "ipython",
    "version": 3
   },
   "file_extension": ".py",
   "mimetype": "text/x-python",
   "name": "python",
   "nbconvert_exporter": "python",
   "pygments_lexer": "ipython3",
   "version": "3.6.5"
  }
 },
 "nbformat": 4,
 "nbformat_minor": 2
}

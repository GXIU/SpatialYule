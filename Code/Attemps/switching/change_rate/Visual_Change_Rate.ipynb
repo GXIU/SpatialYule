{
 "cells": [
  {
   "cell_type": "code",
   "execution_count": 1,
   "metadata": {
    "ExecuteTime": {
     "end_time": "2019-12-04T15:05:55.986571Z",
     "start_time": "2019-12-04T15:05:55.124962Z"
    }
   },
   "outputs": [],
   "source": [
    "import pandas as pd \n",
    "import seaborn as sbn\n",
    "import numpy as np\n",
    "import powerlaw as pwl\n",
    "import pickle as pkl\n",
    "import matplotlib.pyplot as plt"
   ]
  },
  {
   "cell_type": "markdown",
   "metadata": {
    "ExecuteTime": {
     "end_time": "2019-12-04T14:58:25.818861Z",
     "start_time": "2019-12-04T14:58:25.816102Z"
    }
   },
   "source": [
    "# get the data"
   ]
  },
  {
   "cell_type": "code",
   "execution_count": 2,
   "metadata": {
    "ExecuteTime": {
     "end_time": "2019-12-04T15:06:06.464563Z",
     "start_time": "2019-12-04T15:06:06.460602Z"
    }
   },
   "outputs": [],
   "source": [
    "main_path=r'/home/wangjianying/data/Spatial_Yule/change_rate_without_m'"
   ]
  },
  {
   "cell_type": "code",
   "execution_count": 5,
   "metadata": {
    "ExecuteTime": {
     "end_time": "2019-12-04T15:06:23.163353Z",
     "start_time": "2019-12-04T15:06:23.157434Z"
    }
   },
   "outputs": [],
   "source": [
    "def get_paths(main_path):\n",
    "    import os \n",
    "    parts=os.listdir(main_path)\n",
    "    out_paths=[main_path+'/'+str(r)+'_1000000.pkl' for r in [2]]\n",
    "    return out_paths\n",
    "def get_valuelist(path):\n",
    "    with open(path,'rb+') as file:\n",
    "        values=pkl.load(file=file)\n",
    "        time_values=[item[0] for item in values]\n",
    "        step_values=[item[1] for item in values]\n",
    "        step_values2=[]\n",
    "        for item in step_values:\n",
    "            step_values2.extend(item)\n",
    "        time_values2=[]\n",
    "        for item in time_values:\n",
    "            time_values2.extend(item)\n",
    "    return step_values2,time_values2"
   ]
  },
  {
   "cell_type": "markdown",
   "metadata": {},
   "source": [
    "# get the data and ift by powerlaw"
   ]
  },
  {
   "cell_type": "code",
   "execution_count": 6,
   "metadata": {
    "ExecuteTime": {
     "end_time": "2019-12-04T15:06:27.301216Z",
     "start_time": "2019-12-04T15:06:25.380737Z"
    }
   },
   "outputs": [
    {
     "name": "stderr",
     "output_type": "stream",
     "text": [
      "/home/wangjianying/anaconda3/lib/python3.7/site-packages/powerlaw.py:700: RuntimeWarning: divide by zero encountered in true_divide\n",
      "  (Theoretical_CDF * (1 - Theoretical_CDF))\n",
      "/home/wangjianying/anaconda3/lib/python3.7/site-packages/powerlaw.py:700: RuntimeWarning: invalid value encountered in true_divide\n",
      "  (Theoretical_CDF * (1 - Theoretical_CDF))\n"
     ]
    },
    {
     "data": {
      "image/png": "[encoded data removed]",
      "text/plain": [
       "<Figure size 432x288 with 1 Axes>"
      ]
     },
     "metadata": {
      "needs_background": "light"
     },
     "output_type": "display_data"
    }
   ],
   "source": [
    "paths=get_paths(main_path=main_path)\n",
    "palette = sbn.color_palette(\"Reds\", len(paths))\n",
    "values=[]\n",
    "for index,path in enumerate(paths):\n",
    "    c=palette[index]\n",
    "    step_values,time_values=get_valuelist(path)\n",
    "    label=path.split('/')[-1]\n",
    "    fit=pwl.Fit(step_values,xmin=1,discrete=True)\n",
    "    fit.plot_pdf(label=label,original_data=True,c=c)\n",
    "    plt.xlabel('Step')\n",
    "    plt.ylabel('P')\n",
    "    plt.legend()"
   ]
  },
  {
   "cell_type": "code",
   "execution_count": null,
   "metadata": {},
   "outputs": [],
   "source": []
  }
 ],
 "metadata": {
  "kernelspec": {
   "display_name": "Python 3",
   "language": "python",
   "name": "python3"
  },
  "language_info": {
   "codemirror_mode": {
    "name": "ipython",
    "version": 3
   },
   "file_extension": ".py",
   "mimetype": "text/x-python",
   "name": "python",
   "nbconvert_exporter": "python",
   "pygments_lexer": "ipython3",
   "version": "3.7.3"
  },
  "toc": {
   "base_numbering": 1,
   "nav_menu": {},
   "number_sections": true,
   "sideBar": true,
   "skip_h1_title": false,
   "title_cell": "Table of Contents",
   "title_sidebar": "Contents",
   "toc_cell": false,
   "toc_position": {},
   "toc_section_display": true,
   "toc_window_display": false
  }
 },
 "nbformat": 4,
 "nbformat_minor": 2
}
